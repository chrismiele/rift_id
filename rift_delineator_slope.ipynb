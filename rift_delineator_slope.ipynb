{
 "cells": [
  {
   "cell_type": "markdown",
   "id": "54724726",
   "metadata": {},
   "source": [
    "# Rift delineation from terrain steepness\n",
    "\n",
    "This notebook employs the Random Forest algorithm, an ensemble machine learning method, to classify each point along an ICESat-2 track based on whether or not that point lies within a rift. The approach will be to compute the surface slope along each ICESat-2 track, and use the terrain steepness as the primary training dataset. We start by selecting the number of decision trees to include in our forest:"
   ]
  },
  {
   "cell_type": "code",
   "execution_count": 1,
   "id": "8022e637",
   "metadata": {},
   "outputs": [],
   "source": [
    "trees = 100 #choose the number of decision trees in the random forest"
   ]
  },
  {
   "cell_type": "markdown",
   "id": "d2a11189",
   "metadata": {},
   "source": [
    "We then import all necessary packages and modules: "
   ]
  },
  {
   "cell_type": "code",
   "execution_count": 2,
   "id": "bdb50157",
   "metadata": {},
   "outputs": [
    {
     "name": "stderr",
     "output_type": "stream",
     "text": [
      "/usr/local/lib64/python3.9/site-packages/scipy/__init__.py:146: UserWarning: A NumPy version >=1.17.3 and <1.25.0 is required for this version of SciPy (detected version 1.26.4\n",
      "  warnings.warn(f\"A NumPy version >={np_minversion} and <{np_maxversion}\"\n"
     ]
    }
   ],
   "source": [
    "import numpy as np\n",
    "import matplotlib.pyplot as plt\n",
    "import pandas as pd\n",
    "import geopandas as gpd\n",
    "from scipy.signal import resample, savgol_filter\n",
    "from sklearn.model_selection import train_test_split\n",
    "from sklearn.ensemble import RandomForestClassifier\n",
    "from sklearn import metrics"
   ]
  },
  {
   "cell_type": "markdown",
   "id": "c0c181e6",
   "metadata": {},
   "source": [
    "and set paths as necessary."
   ]
  },
  {
   "cell_type": "code",
   "execution_count": 3,
   "id": "8ccff575-110d-4942-beea-f533b09ac216",
   "metadata": {},
   "outputs": [],
   "source": [
    "training_data_path = '/data/fast1/rift-id/outputs' #where the training data are stored"
   ]
  },
  {
   "cell_type": "markdown",
   "id": "a5eca0aa",
   "metadata": {},
   "source": [
    "## Step 1: Load and prepare data\n",
    "\n",
    "We'll load elevation profiles for a collection of ICESat-2 tracks along with label arrays that classify each point as either \"within a rift\" (1) or \"not within a rift\" (0). These datasets will train the rift delineation model.\n",
    "\n",
    "To rigorously test the model, we will exclude a selected rift from training and use it later for validation. Way may choose our validation rift from the following list:"
   ]
  },
  {
   "cell_type": "code",
   "execution_count": 4,
   "id": "d930c58a",
   "metadata": {},
   "outputs": [
    {
     "name": "stdout",
     "output_type": "stream",
     "text": [
      "rift names: {'F5', 'F6', 'F3a', 'F4'}\n"
     ]
    }
   ],
   "source": [
    "training_data = pd.read_pickle(training_data_path + '/dml_all_bin_lr.pkl') #load the training data with rifted ice\n",
    "rift_names = training_data['rift'] #the names of each rift\n",
    "print('rift names:', set(rift_names))"
   ]
  },
  {
   "cell_type": "code",
   "execution_count": 5,
   "id": "1a170365",
   "metadata": {},
   "outputs": [],
   "source": [
    "validation_rift = 'F3a' #this is the rift we'll exclude from training, for later testing. Or, write 'none'"
   ]
  },
  {
   "cell_type": "markdown",
   "id": "10d35e8f",
   "metadata": {},
   "source": [
    "With the validation rift selected, we now procure the appropriate data:"
   ]
  },
  {
   "cell_type": "code",
   "execution_count": 6,
   "id": "7b67357c",
   "metadata": {},
   "outputs": [],
   "source": [
    "all_elevation_profiles = np.array(training_data['h_subset']) #surface elevations along each track\n",
    "all_labels = np.array(training_data['bin_subset']) #binary labels at each point along tracks\n",
    "x, y = training_data['x_subset'], training_data['y_subset'] #x and y coordinates along each track\n",
    "distances = np.array(training_data['d_subset'])\n",
    "\n",
    "mask = np.array(rift_names) != validation_rift  #Boolean mask for omitting the chosen rift name\n",
    "elevation_profiles = [np.array(all_elevation_profiles[i]) for i in np.where(mask)[0]] #select relevant tracks\n",
    "labels = [np.array(all_labels[i]) for i in np.where(mask)[0]] #and labels\n",
    "\n",
    "smoothing_window = 50 #10 corresponds to about a 200-meter window\n",
    "smoothed_elevations = savgol_filter(elevation_profiles, window_length = smoothing_window, polyorder = 2)\n",
    "Δh_Δx = np.array([\n",
    "    np.diff(smoothed_elevations[i]) / np.diff(distances[i])  #compute spatial derivative, dh/dx\n",
    "    for i in range(len(smoothed_elevations))\n",
    "])"
   ]
  },
  {
   "cell_type": "markdown",
   "id": "f154f435",
   "metadata": {},
   "source": [
    "### Modify the data \n",
    "\n",
    "In the loaded data, all training tracks have the rift positioned at the track center, and all tracks used as input have exactly the same length. However, this does not reflect real-world conditions, where (a) rifts may appear at arbitrary locations or not at all, and (b) ICESat-2 tracks may be cropped to different lengths, depending on how data are selected. \n",
    "\n",
    "To improve the model's ability to detect rifts at any position along a track of any length, we will modify the training data. Each track will be cropped to start and end at randomly-selected indices, so that (a) rifts will be randomly-placed, or may not appear at all, and (b) tracks will have different spatial lengths. (Because Random Forest requires training data vectors to have the same array length, this requires resampling the cropped tracks back to their original number of points)."
   ]
  },
  {
   "cell_type": "code",
   "execution_count": 7,
   "id": "887303f8",
   "metadata": {},
   "outputs": [],
   "source": [
    "Δh_Δx_cropped = []\n",
    "labels_cropped = []\n",
    "\n",
    "n = len(Δh_Δx[0])\n",
    "\n",
    "for i in range(len(elevation_profiles)):\n",
    "    for j in range(1000): #in fact, why not do this many times just to increase the training sample?\n",
    "        start_index = np.random.randint(n - 1) #start anywhere less than n\n",
    "        end_index = np.random.randint(start_index + 1, high = n) #end anywhere between start_index and n\n",
    "        \n",
    "        temp = Δh_Δx[i][start_index:end_index] #slice the track\n",
    "        temp = resample(temp, n) #resample it to n points\n",
    "        Δh_Δx_cropped.append(np.array(temp))\n",
    "        \n",
    "        temp = labels[i][start_index:end_index] #slice\n",
    "        temp = resample(temp, n) #resample\n",
    "        labels_cropped.append(np.rint(np.array(temp))) #np.rint to ensure we don't end up with nonbinary labels     "
   ]
  },
  {
   "cell_type": "markdown",
   "id": "a6d93d48",
   "metadata": {},
   "source": [
    "We should also ensure that we have a good balance of rifted vs. non-rifted training tracks:"
   ]
  },
  {
   "cell_type": "code",
   "execution_count": 8,
   "id": "041db546",
   "metadata": {},
   "outputs": [
    {
     "name": "stdout",
     "output_type": "stream",
     "text": [
      "49.49% of cropped tracks contain rifts\n"
     ]
    }
   ],
   "source": [
    "count = sum(1 in entry for entry in labels_cropped)\n",
    "print(f'{count/len(labels_cropped)*100:.2f}% of cropped tracks contain rifts')"
   ]
  },
  {
   "cell_type": "markdown",
   "id": "6edc1bfa",
   "metadata": {},
   "source": [
    "## Step 2: Train the model"
   ]
  },
  {
   "cell_type": "code",
   "execution_count": 9,
   "id": "fbe26543",
   "metadata": {},
   "outputs": [
    {
     "name": "stdout",
     "output_type": "stream",
     "text": [
      "model score:  55.16%\n"
     ]
    }
   ],
   "source": [
    "training_data = {\n",
    "    'features': Δh_Δx_cropped,\n",
    "    'labels': labels_cropped\n",
    "}\n",
    "\n",
    "X_train, X_test, Y_train, Y_test = train_test_split(training_data['features'], training_data['labels'], \n",
    "                                                    test_size = 0.2, random_state=0)\n",
    "model = RandomForestClassifier(n_estimators = trees)\n",
    "model.fit(X_train, Y_train)\n",
    "score = model.score(X_test,Y_test)\n",
    "print(f'model score: {100*score : 0.2f}%')"
   ]
  },
  {
   "cell_type": "markdown",
   "id": "66f51660",
   "metadata": {},
   "source": [
    "## Step 3: Test the model\n",
    "\n",
    "We test the model by selecting a named rift, identifying all ICESat-2 tracks that contain it, and attempting to reproduce its classification. This comes in three steps. \n",
    "\n",
    "### (3a) Prepare testing data\n",
    "\n",
    "This involves not just identifying tracks which contain the chosen rift, but also ensuring the data are modified to match the format used to train the model. This means smoothing the elevation profiles, computing spatial derivatives to obtain surface slope, and resampling all datasets to the correct size."
   ]
  },
  {
   "cell_type": "code",
   "execution_count": 10,
   "id": "5ccd0c76",
   "metadata": {},
   "outputs": [],
   "source": [
    "if validation_rift not in set(rift_names): #if we never omitted a rift in the training dataset:\n",
    "    validation_rift = 'F3a' #we'll just look at this one (it's the biggest)\n",
    "\n",
    "mask = np.array(rift_names) == validation_rift #boolean mask for matching the chosen rift name\n",
    "\n",
    "test_labels = [np.array(all_labels[i]) for i in np.where(mask)[0]] #boolean labels from relevant tracks\n",
    "test_labels = [np.rint(resample(entry, n)) for entry in test_labels] #ensure appropriate size\n",
    "\n",
    "x_subset = [np.array(x[i]) for i in np.where(mask)[0]] #x-coords\n",
    "x_subset = [resample(entry, n) for entry in x_subset] #resize\n",
    "y_subset = [np.array(y[i]) for i in np.where(mask)[0]] #y-coords\n",
    "y_subset = [resample(entry, n) for entry in y_subset] #resize\n",
    "\n",
    "test_tracks = [np.array(all_elevation_profiles[i]) for i in np.where(mask)[0]] #select relevant tracks\n",
    "test_tracks = savgol_filter(test_tracks, window_length = smoothing_window, polyorder=2) #smooth\n",
    "test_distances = [np.array(distances[i]) for i in np.where(mask)[0]] #along-track distances\n",
    "\n",
    "Δh_Δx_test = np.array([\n",
    "    np.diff(test_tracks[i]) / np.diff(test_distances[i])  #compute dh/dx\n",
    "    for i in range(len(test_tracks))\n",
    "])\n",
    "Δh_Δx_test = [resample(entry, n) for entry in Δh_Δx_test] #resize"
   ]
  },
  {
   "cell_type": "markdown",
   "id": "d3c0c703",
   "metadata": {},
   "source": [
    "### (3b) Obtain model predictions"
   ]
  },
  {
   "cell_type": "code",
   "execution_count": 11,
   "id": "5763cab4",
   "metadata": {},
   "outputs": [],
   "source": [
    "output_labels = model.predict(Δh_Δx_test) #get model predictions"
   ]
  },
  {
   "cell_type": "markdown",
   "id": "4cddb26b",
   "metadata": {},
   "source": [
    "### (3c) Plot"
   ]
  },
  {
   "cell_type": "code",
   "execution_count": 12,
   "id": "d3489f86",
   "metadata": {},
   "outputs": [
    {
     "data": {
      "image/png": "[encoded data removed]",
      "text/plain": [
       "<Figure size 864x432 with 4 Axes>"
      ]
     },
     "metadata": {
      "needs_background": "light"
     },
     "output_type": "display_data"
    }
   ],
   "source": [
    "fig, axes = plt.subplots(nrows=1, ncols=2, figsize=(12, 6), sharex=True, sharey=True) #and plot\n",
    "\n",
    "#first subplot: known classification\n",
    "sc1 = axes[0].scatter(x_subset, y_subset, s=1, c=test_labels, cmap='Greys')\n",
    "cbar1 = fig.colorbar(sc1, ax=axes[0])\n",
    "cbar1.set_label('known classification')\n",
    "axes[0].set_xlabel('x coord (m)')\n",
    "axes[0].set_ylabel('y coord (m)')\n",
    "axes[0].grid()\n",
    "axes[0].set_title(f'rift {validation_rift} actual')\n",
    "\n",
    "#second subplot: predicted classification\n",
    "sc2 = axes[1].scatter(x_subset, y_subset, s=1, c=output_labels, cmap='Greys')\n",
    "cbar2 = fig.colorbar(sc2, ax=axes[1])\n",
    "cbar2.set_label('predicted classification')\n",
    "axes[1].set_xlabel('x coord (m)')\n",
    "axes[1].grid()\n",
    "axes[1].set_title(f'rift {validation_rift} predicted')\n",
    "\n",
    "plt.tight_layout()\n",
    "plt.show()"
   ]
  }
 ],
 "metadata": {
  "kernelspec": {
   "display_name": "Python 3",
   "language": "python",
   "name": "python3"
  },
  "language_info": {
   "codemirror_mode": {
    "name": "ipython",
    "version": 3
   },
   "file_extension": ".py",
   "mimetype": "text/x-python",
   "name": "python",
   "nbconvert_exporter": "python",
   "pygments_lexer": "ipython3",
   "version": "3.9.19"
  }
 },
 "nbformat": 4,
 "nbformat_minor": 5
}
