{
 "cells": [
  {
   "cell_type": "markdown",
   "id": "54724726",
   "metadata": {},
   "source": [
    "# Rift delineation using Random Forest\n",
    "\n",
    "This notebook employs the Random Forest algorithm, an ensemble machine learning method, to classify each point along an ICESat-2 track based on whether or not that point lies within a rift. We start by selecting the number of decision trees to include in our forest:"
   ]
  },
  {
   "cell_type": "code",
   "execution_count": 1,
   "id": "8022e637",
   "metadata": {},
   "outputs": [],
   "source": [
    "trees = 100 #choose the number of decision trees"
   ]
  },
  {
   "cell_type": "markdown",
   "id": "d2a11189",
   "metadata": {},
   "source": [
    "We then import all necessary packages and modules: "
   ]
  },
  {
   "cell_type": "code",
   "execution_count": 2,
   "id": "bdb50157",
   "metadata": {},
   "outputs": [],
   "source": [
    "import numpy as np\n",
    "import matplotlib.pyplot as plt\n",
    "import pandas as pd\n",
    "import geopandas as gpd\n",
    "from sklearn.model_selection import train_test_split\n",
    "from sklearn.ensemble import RandomForestClassifier\n",
    "from sklearn import metrics"
   ]
  },
  {
   "cell_type": "markdown",
   "id": "c0c181e6",
   "metadata": {},
   "source": [
    "and set paths as necessary."
   ]
  },
  {
   "cell_type": "code",
   "execution_count": 3,
   "id": "8ccff575-110d-4942-beea-f533b09ac216",
   "metadata": {},
   "outputs": [],
   "source": [
    "root_path = '/data/fast1/rift-id/'\n",
    "outputs_path = root_path + 'outputs' #where the training data are stored"
   ]
  },
  {
   "cell_type": "markdown",
   "id": "a5eca0aa",
   "metadata": {},
   "source": [
    "## Step 1: Load all relevant datasets\n",
    "\n",
    "We'll load elevation profiles for each track (rifted and non-rifted) and normalize each elevation profile by its maximal value. Meanwhile, we'll also load label arrays which label each point along each track as either \"within a rift\" (1) or \"not within a rift\" (0). These data will be used to together to train the rift delineation model."
   ]
  },
  {
   "cell_type": "code",
   "execution_count": 4,
   "id": "7b67357c",
   "metadata": {},
   "outputs": [],
   "source": [
    "training_data_1 = pd.read_pickle(outputs_path + '/dml_all_bin_lr.pkl') #load the training data with rifted ice\n",
    "training_data_0 = pd.read_pickle(outputs_path + '/dml_all_bin_lr_nonrift.pkl') #load the non-rift training data\n",
    "\n",
    "#elevation profiles are used for training the first model\n",
    "elevation_profiles = training_data_1['h_subset'] #surface elevations along each track\n",
    "elevation_profiles_1 = np.array([profile/np.max(profile) for profile in elevation_profiles]) #where '1' indicates rifted ice\n",
    "elevation_profiles = training_data_0['h_subset']\n",
    "elevation_profiles_0 = np.array([profile/np.max(profile) for profile in elevation_profiles]) #and '0' indicates non-rifted ice\n",
    "\n",
    "#point labels are used for training the second model\n",
    "labels = training_data_1['bin_subset']\n",
    "labels_1 = np.array([label for label in labels]) #to ensure labels_1 has the same shape as elevation_profiles_1\n",
    "labels_0 = np.zeros(np.shape(elevation_profiles_0)) #and noting that all entries are '0' in the non-rifted tracks"
   ]
  },
  {
   "cell_type": "markdown",
   "id": "6edc1bfa",
   "metadata": {},
   "source": [
    "## Step 2: Train the model"
   ]
  },
  {
   "cell_type": "code",
   "execution_count": 5,
   "id": "fbe26543",
   "metadata": {},
   "outputs": [
    {
     "name": "stdout",
     "output_type": "stream",
     "text": [
      "model score:  91.89%\n"
     ]
    }
   ],
   "source": [
    "elevation_profiles = np.concatenate([elevation_profiles_1, elevation_profiles_0]) #concatenate all surface elevation profiles\n",
    "labels = np.concatenate([labels_1, labels_0])\n",
    "\n",
    "training_data = {\n",
    "    'features': elevation_profiles,\n",
    "    'labels': labels\n",
    "}\n",
    "\n",
    "X_train, X_test, Y_train, Y_test = train_test_split(training_data['features'], training_data['labels'], \n",
    "                                                    test_size = 0.2, random_state=0)\n",
    "track_model = RandomForestClassifier(n_estimators = trees)\n",
    "track_model.fit(X_train, Y_train)\n",
    "score = track_model.score(X_test,Y_test)\n",
    "print(f'model score: {100*score : 0.2f}%')"
   ]
  },
  {
   "cell_type": "markdown",
   "id": "66f51660",
   "metadata": {},
   "source": [
    "## Step 3: Test the model"
   ]
  },
  {
   "cell_type": "code",
   "execution_count": 6,
   "id": "5ccd0c76",
   "metadata": {},
   "outputs": [
    {
     "data": {
      "text/plain": [
       "<matplotlib.legend.Legend at 0x7f7ce2efafa0>"
      ]
     },
     "execution_count": 6,
     "metadata": {},
     "output_type": "execute_result"
    },
    {
     "data": {
      "image/png": "[encoded data removed]",
      "text/plain": [
       "<Figure size 1008x144 with 1 Axes>"
      ]
     },
     "metadata": {
      "needs_background": "light"
     },
     "output_type": "display_data"
    }
   ],
   "source": [
    "index = 2 #choose a track to feed into the model\n",
    "input_track = np.array([elevation_profiles_1[index]])\n",
    "actual_labels = np.array([labels_1[index]]) #the actual labels along that track\n",
    "predicted_labels = track_model.predict(input_track) #the predicted labels along that track\n",
    "\n",
    "plt.figure(figsize = (14, 2))\n",
    "plt.plot(input_track[0], color = '0', linewidth = 3, label = 'normalized elevation')\n",
    "plt.plot(actual_labels[0], color = '0.5', linewidth = 3, label = 'actual classification')\n",
    "plt.plot(predicted_labels[0], color = '0', linewidth = 3, linestyle = 'dotted', label = 'predicted classification')\n",
    "# plt.plot(actual_labels[0] - predicted_labels[0], color = 'blue', label = 'misfit')\n",
    "plt.legend(loc = 'center left')"
   ]
  }
 ],
 "metadata": {
  "kernelspec": {
   "display_name": "Python 3",
   "language": "python",
   "name": "python3"
  },
  "language_info": {
   "codemirror_mode": {
    "name": "ipython",
    "version": 3
   },
   "file_extension": ".py",
   "mimetype": "text/x-python",
   "name": "python",
   "nbconvert_exporter": "python",
   "pygments_lexer": "ipython3",
   "version": "3.9.19"
  }
 },
 "nbformat": 4,
 "nbformat_minor": 5
}
