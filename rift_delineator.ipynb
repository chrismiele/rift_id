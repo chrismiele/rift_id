{
 "cells": [
  {
   "cell_type": "markdown",
   "id": "54724726",
   "metadata": {},
   "source": [
    "# Rift delineation using Random Forest\n",
    "\n",
    "This notebook employs the Random Forest algorithm, an ensemble machine learning method, to classify each point along an ICESat-2 track based on whether or not that point lies within a rift. We start by selecting the number of decision trees to include in our forest:"
   ]
  },
  {
   "cell_type": "code",
   "execution_count": 1,
   "id": "8022e637",
   "metadata": {},
   "outputs": [],
   "source": [
    "trees = 10 #choose the number of decision trees"
   ]
  },
  {
   "cell_type": "markdown",
   "id": "d2a11189",
   "metadata": {},
   "source": [
    "We then import all necessary packages and modules: "
   ]
  },
  {
   "cell_type": "code",
   "execution_count": 2,
   "id": "bdb50157",
   "metadata": {},
   "outputs": [],
   "source": [
    "import numpy as np\n",
    "import matplotlib.pyplot as plt\n",
    "import pandas as pd\n",
    "import geopandas as gpd\n",
    "from scipy.signal import resample\n",
    "from sklearn.model_selection import train_test_split\n",
    "from sklearn.ensemble import RandomForestClassifier\n",
    "from sklearn import metrics"
   ]
  },
  {
   "cell_type": "markdown",
   "id": "c0c181e6",
   "metadata": {},
   "source": [
    "and set paths as necessary."
   ]
  },
  {
   "cell_type": "code",
   "execution_count": 3,
   "id": "8ccff575-110d-4942-beea-f533b09ac216",
   "metadata": {},
   "outputs": [],
   "source": [
    "root_path = '/data/fast1/rift-id/'\n",
    "outputs_path = root_path + 'outputs' #where the training data are stored"
   ]
  },
  {
   "cell_type": "markdown",
   "id": "a5eca0aa",
   "metadata": {},
   "source": [
    "## Step 1: Load all relevant datasets\n",
    "\n",
    "We'll load elevation profiles for each track and normalize each elevation profile by its maximal value. Meanwhile, we'll also load label arrays which label each point along each track as either \"within a rift\" (1) or \"not within a rift\" (0). These data will be used to together to train the rift delineation model."
   ]
  },
  {
   "cell_type": "code",
   "execution_count": 4,
   "id": "7b67357c",
   "metadata": {},
   "outputs": [],
   "source": [
    "training_data_1 = pd.read_pickle(outputs_path + '/dml_all_bin_lr.pkl') #load the training data with rifted ice\n",
    "\n",
    "#elevation profiles are used for training the first model\n",
    "elevation_profiles = training_data_1['h_subset'] #surface elevations along each track\n",
    "elevation_profiles_1 = np.array([profile/np.max(profile) for profile in elevation_profiles]) #where '1' indicates rifted ice\n",
    "\n",
    "#point labels are used for training the second model\n",
    "labels = training_data_1['bin_subset']\n",
    "labels_1 = np.array([label for label in labels]) #to ensure labels_1 has the same shape as elevation_profiles_1\n",
    "\n",
    "#concatinate the training data\n",
    "elevation_profiles = np.concatenate([elevation_profiles_1]) #concatenate all surface elevation profiles\n",
    "labels = np.concatenate([labels_1])"
   ]
  },
  {
   "cell_type": "markdown",
   "id": "f154f435",
   "metadata": {},
   "source": [
    "### Modify the data \n",
    "\n",
    "In the loaded data, all training tracks have the rift positioned at the track center. However, this does not reflect real-world conditions, where rifts may appear at arbitrary locations (and generally, not all tracks will contain rifts). To improve the model's ability to detect rifts at any position along the track, we will modify the training data. Each track will be cropped to start and end at randomly-selected indices, so that the result may or may not contain a rift, and most rifts will generally not occur at the centre of the domain. We then resample the cropped tracks back to their original number of points."
   ]
  },
  {
   "cell_type": "code",
   "execution_count": 5,
   "id": "887303f8",
   "metadata": {},
   "outputs": [],
   "source": [
    "elevation_profiles_cropped = []\n",
    "labels_cropped = []\n",
    "\n",
    "n = len(elevation_profiles[0])\n",
    "centre_index = int(n/2)\n",
    "\n",
    "for i in range(len(elevation_profiles)):\n",
    "    for j in range(10): #in fact, why not do this many times just to increase the training sample?\n",
    "        start_index = np.random.randint(n - 1) #start anywhere less than n\n",
    "        end_index = np.random.randint(start_index + 1, high = n) #end anywhere between start_index and n\n",
    "        \n",
    "        temp_profile = elevation_profiles[i][start_index:end_index]\n",
    "        temp_profile = resample(temp_profile, n)\n",
    "        elevation_profiles_cropped.append(np.array(temp_profile))\n",
    "        \n",
    "        temp_label = labels[i][start_index:end_index]\n",
    "        temp_label = resample(temp_label, n)\n",
    "        labels_cropped.append(np.rint(np.array(temp_label))) #np.rint to ensure we don't end up with non-binary values"
   ]
  },
  {
   "cell_type": "code",
   "execution_count": 12,
   "id": "041db546",
   "metadata": {},
   "outputs": [
    {
     "name": "stdout",
     "output_type": "stream",
     "text": [
      "46.36% of cropped tracks contain rifts\n"
     ]
    }
   ],
   "source": [
    "count = sum(1 in entry for entry in labels_cropped)\n",
    "print(f'{count/len(labels_cropped)*100:.2f}% of cropped tracks contain rifts')"
   ]
  },
  {
   "cell_type": "markdown",
   "id": "6edc1bfa",
   "metadata": {},
   "source": [
    "## Step 2: Train the model"
   ]
  },
  {
   "cell_type": "code",
   "execution_count": 7,
   "id": "fbe26543",
   "metadata": {},
   "outputs": [
    {
     "name": "stdout",
     "output_type": "stream",
     "text": [
      "model score:  51.14%\n"
     ]
    }
   ],
   "source": [
    "training_data = {\n",
    "    'features': elevation_profiles_cropped,\n",
    "    'labels': labels_cropped\n",
    "}\n",
    "\n",
    "X_train, X_test, Y_train, Y_test = train_test_split(training_data['features'], training_data['labels'], \n",
    "                                                    test_size = 0.1, random_state=0)\n",
    "model = RandomForestClassifier(n_estimators = trees)\n",
    "model.fit(X_train, Y_train)\n",
    "score = model.score(X_test,Y_test)\n",
    "print(f'model score: {100*score : 0.2f}%')"
   ]
  },
  {
   "cell_type": "markdown",
   "id": "66f51660",
   "metadata": {},
   "source": [
    "## Step 3: Test the model"
   ]
  },
  {
   "cell_type": "code",
   "execution_count": 11,
   "id": "5ccd0c76",
   "metadata": {},
   "outputs": [
    {
     "data": {
      "text/plain": [
       "<matplotlib.legend.Legend at 0x7f5e90c3bdf0>"
      ]
     },
     "execution_count": 11,
     "metadata": {},
     "output_type": "execute_result"
    },
    {
     "data": {
      "image/png": "[encoded data removed]",
      "text/plain": [
       "<Figure size 1008x144 with 1 Axes>"
      ]
     },
     "metadata": {
      "needs_background": "light"
     },
     "output_type": "display_data"
    }
   ],
   "source": [
    "index = 0 #choose a track to feed into the model\n",
    "input_track = np.array([elevation_profiles_1[index]])\n",
    "actual_labels = np.array([labels_1[index]]) #the actual labels along that track\n",
    "predicted_labels = model.predict(input_track) #the predicted labels along that track\n",
    "\n",
    "plt.figure(figsize = (14, 2))\n",
    "plt.plot(input_track[0], color = '0', linewidth = 3, label = 'normalized elevation')\n",
    "plt.plot(actual_labels[0], color = '0.5', linewidth = 3, label = 'actual classification')\n",
    "plt.plot(predicted_labels[0], color = '0', linewidth = 3, linestyle = 'dotted', label = 'predicted classification')\n",
    "# plt.plot(actual_labels[0] - predicted_labels[0], color = 'blue', label = 'misfit')\n",
    "plt.legend(loc = 'center left')"
   ]
  }
 ],
 "metadata": {
  "kernelspec": {
   "display_name": "Python 3",
   "language": "python",
   "name": "python3"
  },
  "language_info": {
   "codemirror_mode": {
    "name": "ipython",
    "version": 3
   },
   "file_extension": ".py",
   "mimetype": "text/x-python",
   "name": "python",
   "nbconvert_exporter": "python",
   "pygments_lexer": "ipython3",
   "version": "3.9.19"
  }
 },
 "nbformat": 4,
 "nbformat_minor": 5
}
